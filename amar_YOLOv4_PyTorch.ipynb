{
  "nbformat": 4,
  "nbformat_minor": 0,
  "metadata": {
    "colab": {
      "name": "amar YOLOv4-PyTorch.ipynb",
      "provenance": [],
      "collapsed_sections": []
    },
    "kernelspec": {
      "name": "python3",
      "display_name": "Python 3"
    },
    "accelerator": "GPU"
  },
  "cells": [
    {
      "cell_type": "code",
      "metadata": {
        "id": "rX_tj9SLtake",
        "colab": {
          "base_uri": "https://localhost:8080/",
          "height": 134
        },
        "outputId": "31c1a6f6-b0b4-474d-ae5f-230000ad9d58"
      },
      "source": [
        "!git clone https://github.com/krayzius-wolf/pytorch-YOLOv4.git"
      ],
      "execution_count": null,
      "outputs": [
        {
          "output_type": "stream",
          "text": [
            "Cloning into 'pytorch-YOLOv4'...\n",
            "remote: Enumerating objects: 3, done.\u001b[K\n",
            "remote: Counting objects:  33% (1/3)\u001b[K\rremote: Counting objects:  66% (2/3)\u001b[K\rremote: Counting objects: 100% (3/3)\u001b[K\rremote: Counting objects: 100% (3/3), done.\u001b[K\n",
            "remote: Compressing objects:  33% (1/3)\u001b[K\rremote: Compressing objects:  66% (2/3)\u001b[K\rremote: Compressing objects: 100% (3/3)\u001b[K\rremote: Compressing objects: 100% (3/3), done.\u001b[K\n",
            "Receiving objects:   0% (1/401)   \rReceiving objects:   1% (5/401)   \rReceiving objects:   2% (9/401)   \rReceiving objects:   3% (13/401)   \rReceiving objects:   4% (17/401)   \rReceiving objects:   5% (21/401)   \rReceiving objects:   6% (25/401)   \rReceiving objects:   7% (29/401)   \rReceiving objects:   8% (33/401)   \rReceiving objects:   9% (37/401)   \rReceiving objects:  10% (41/401)   \rReceiving objects:  11% (45/401)   \rReceiving objects:  12% (49/401)   \rReceiving objects:  13% (53/401)   \rReceiving objects:  14% (57/401)   \rReceiving objects:  15% (61/401)   \rReceiving objects:  16% (65/401)   \rReceiving objects:  17% (69/401)   \rReceiving objects:  18% (73/401)   \rReceiving objects:  19% (77/401)   \rReceiving objects:  20% (81/401)   \rReceiving objects:  21% (85/401)   \rReceiving objects:  22% (89/401)   \rReceiving objects:  23% (93/401)   \rReceiving objects:  24% (97/401)   \rReceiving objects:  25% (101/401)   \rReceiving objects:  26% (105/401)   \rReceiving objects:  27% (109/401)   \rReceiving objects:  28% (113/401)   \rReceiving objects:  29% (117/401)   \rReceiving objects:  30% (121/401)   \rReceiving objects:  31% (125/401)   \rReceiving objects:  32% (129/401)   \rReceiving objects:  33% (133/401)   \rReceiving objects:  34% (137/401)   \rReceiving objects:  35% (141/401)   \rReceiving objects:  36% (145/401)   \rReceiving objects:  37% (149/401)   \rReceiving objects:  38% (153/401)   \rReceiving objects:  39% (157/401)   \rReceiving objects:  40% (161/401)   \rReceiving objects:  41% (165/401)   \rReceiving objects:  42% (169/401)   \rReceiving objects:  43% (173/401)   \rReceiving objects:  44% (177/401)   \rReceiving objects:  45% (181/401)   \rReceiving objects:  46% (185/401)   \rReceiving objects:  47% (189/401)   \rReceiving objects:  48% (193/401)   \rReceiving objects:  49% (197/401)   \rReceiving objects:  50% (201/401)   \rReceiving objects:  51% (205/401)   \rReceiving objects:  52% (209/401)   \rReceiving objects:  53% (213/401)   \rReceiving objects:  54% (217/401)   \rReceiving objects:  55% (221/401)   \rReceiving objects:  56% (225/401)   \rReceiving objects:  57% (229/401)   \rReceiving objects:  58% (233/401)   \rReceiving objects:  59% (237/401)   \rReceiving objects:  60% (241/401)   \rReceiving objects:  61% (245/401)   \rReceiving objects:  62% (249/401)   \rReceiving objects:  63% (253/401)   \rReceiving objects:  64% (257/401)   \rReceiving objects:  65% (261/401)   \rReceiving objects:  66% (265/401)   \rReceiving objects:  67% (269/401)   \rReceiving objects:  68% (273/401)   \rReceiving objects:  69% (277/401)   \rReceiving objects:  70% (281/401)   \rReceiving objects:  71% (285/401)   \rReceiving objects:  72% (289/401)   \rReceiving objects:  73% (293/401)   \rReceiving objects:  74% (297/401)   \rReceiving objects:  75% (301/401)   \rReceiving objects:  76% (305/401)   \rReceiving objects:  77% (309/401)   \rReceiving objects:  78% (313/401)   \rReceiving objects:  79% (317/401)   \rReceiving objects:  80% (321/401)   \rReceiving objects:  81% (325/401)   \rReceiving objects:  82% (329/401)   \rReceiving objects:  83% (333/401)   \rReceiving objects:  84% (337/401)   \rremote: Total 401 (delta 0), reused 0 (delta 0), pack-reused 398\u001b[K\n",
            "Receiving objects:  85% (341/401)   \rReceiving objects:  86% (345/401)   \rReceiving objects:  87% (349/401)   \rReceiving objects:  88% (353/401)   \rReceiving objects:  89% (357/401)   \rReceiving objects:  90% (361/401)   \rReceiving objects:  91% (365/401)   \rReceiving objects:  92% (369/401)   \rReceiving objects:  93% (373/401)   \rReceiving objects:  94% (377/401)   \rReceiving objects:  95% (381/401)   \rReceiving objects:  96% (385/401)   \rReceiving objects:  97% (389/401)   \rReceiving objects:  98% (393/401)   \rReceiving objects:  99% (397/401)   \rReceiving objects: 100% (401/401)   \rReceiving objects: 100% (401/401), 922.55 KiB | 6.64 MiB/s, done.\n",
            "Resolving deltas:   0% (0/226)   \rResolving deltas:   1% (3/226)   \rResolving deltas:   4% (11/226)   \rResolving deltas:   6% (14/226)   \rResolving deltas:   8% (19/226)   \rResolving deltas:   9% (22/226)   \rResolving deltas:  11% (25/226)   \rResolving deltas:  15% (36/226)   \rResolving deltas:  17% (40/226)   \rResolving deltas:  18% (41/226)   \rResolving deltas:  22% (50/226)   \rResolving deltas:  28% (65/226)   \rResolving deltas:  30% (70/226)   \rResolving deltas:  32% (73/226)   \rResolving deltas:  43% (98/226)   \rResolving deltas:  50% (115/226)   \rResolving deltas:  51% (116/226)   \rResolving deltas:  60% (136/226)   \rResolving deltas:  69% (158/226)   \rResolving deltas:  70% (160/226)   \rResolving deltas:  74% (169/226)   \rResolving deltas:  86% (195/226)   \rResolving deltas:  91% (206/226)   \rResolving deltas:  94% (214/226)   \rResolving deltas:  96% (218/226)   \rResolving deltas:  98% (222/226)   \rResolving deltas:  99% (224/226)   \rResolving deltas: 100% (226/226)   \rResolving deltas: 100% (226/226), done.\n"
          ],
          "name": "stdout"
        }
      ]
    },
    {
      "cell_type": "code",
      "metadata": {
        "id": "2dcOE23gvbHj",
        "colab": {
          "base_uri": "https://localhost:8080/",
          "height": 386
        },
        "outputId": "ffb36a86-f27b-4f4c-d472-ed6ae3606f4f"
      },
      "source": [
        "%cd /content/pytorch-YOLOv4\n",
        "!pip install -r requirements.txt"
      ],
      "execution_count": null,
      "outputs": [
        {
          "output_type": "stream",
          "text": [
            "/content/pytorch-YOLOv4\n",
            "Requirement already satisfied: numpy==1.18.2 in /usr/local/lib/python3.6/dist-packages (from -r requirements.txt (line 1)) (1.18.2)\n",
            "Requirement already satisfied: torch==1.4.0 in /usr/local/lib/python3.6/dist-packages (from -r requirements.txt (line 2)) (1.4.0)\n",
            "Requirement already satisfied: scikit_image==0.16.2 in /usr/local/lib/python3.6/dist-packages (from -r requirements.txt (line 3)) (0.16.2)\n",
            "Requirement already satisfied: matplotlib==2.2.3 in /usr/local/lib/python3.6/dist-packages (from -r requirements.txt (line 4)) (2.2.3)\n",
            "Requirement already satisfied: tqdm==4.43.0 in /usr/local/lib/python3.6/dist-packages (from -r requirements.txt (line 5)) (4.43.0)\n",
            "Requirement already satisfied: easydict==1.9 in /usr/local/lib/python3.6/dist-packages (from -r requirements.txt (line 6)) (1.9)\n",
            "Requirement already satisfied: Pillow==7.1.2 in /usr/local/lib/python3.6/dist-packages (from -r requirements.txt (line 7)) (7.1.2)\n",
            "Requirement already satisfied: tensorboardX in /usr/local/lib/python3.6/dist-packages (from -r requirements.txt (line 8)) (2.1)\n",
            "Requirement already satisfied: PyWavelets>=0.4.0 in /usr/local/lib/python3.6/dist-packages (from scikit_image==0.16.2->-r requirements.txt (line 3)) (1.1.1)\n",
            "Requirement already satisfied: scipy>=0.19.0 in /usr/local/lib/python3.6/dist-packages (from scikit_image==0.16.2->-r requirements.txt (line 3)) (1.4.1)\n",
            "Requirement already satisfied: networkx>=2.0 in /usr/local/lib/python3.6/dist-packages (from scikit_image==0.16.2->-r requirements.txt (line 3)) (2.4)\n",
            "Requirement already satisfied: imageio>=2.3.0 in /usr/local/lib/python3.6/dist-packages (from scikit_image==0.16.2->-r requirements.txt (line 3)) (2.4.1)\n",
            "Requirement already satisfied: cycler>=0.10 in /usr/local/lib/python3.6/dist-packages (from matplotlib==2.2.3->-r requirements.txt (line 4)) (0.10.0)\n",
            "Requirement already satisfied: pyparsing!=2.0.4,!=2.1.2,!=2.1.6,>=2.0.1 in /usr/local/lib/python3.6/dist-packages (from matplotlib==2.2.3->-r requirements.txt (line 4)) (2.4.7)\n",
            "Requirement already satisfied: six>=1.10 in /usr/local/lib/python3.6/dist-packages (from matplotlib==2.2.3->-r requirements.txt (line 4)) (1.12.0)\n",
            "Requirement already satisfied: pytz in /usr/local/lib/python3.6/dist-packages (from matplotlib==2.2.3->-r requirements.txt (line 4)) (2018.9)\n",
            "Requirement already satisfied: kiwisolver>=1.0.1 in /usr/local/lib/python3.6/dist-packages (from matplotlib==2.2.3->-r requirements.txt (line 4)) (1.2.0)\n",
            "Requirement already satisfied: python-dateutil>=2.1 in /usr/local/lib/python3.6/dist-packages (from matplotlib==2.2.3->-r requirements.txt (line 4)) (2.8.1)\n",
            "Requirement already satisfied: protobuf>=3.8.0 in /usr/local/lib/python3.6/dist-packages (from tensorboardX->-r requirements.txt (line 8)) (3.12.2)\n",
            "Requirement already satisfied: decorator>=4.3.0 in /usr/local/lib/python3.6/dist-packages (from networkx>=2.0->scikit_image==0.16.2->-r requirements.txt (line 3)) (4.4.2)\n",
            "Requirement already satisfied: setuptools in /usr/local/lib/python3.6/dist-packages (from protobuf>=3.8.0->tensorboardX->-r requirements.txt (line 8)) (49.1.0)\n"
          ],
          "name": "stdout"
        }
      ]
    },
    {
      "cell_type": "code",
      "metadata": {
        "id": "UYIS9QfDyCK9",
        "colab": {
          "base_uri": "https://localhost:8080/",
          "height": 84
        },
        "outputId": "6f93f741-a64a-4fff-fd5d-2e3fa9ec2d89"
      },
      "source": [
        "!gdown https://drive.google.com/uc?id=1fcbR0bWzYfIEdLJPzOsn4R5mlvR6IQyA"
      ],
      "execution_count": null,
      "outputs": [
        {
          "output_type": "stream",
          "text": [
            "Downloading...\n",
            "From: https://drive.google.com/uc?id=1fcbR0bWzYfIEdLJPzOsn4R5mlvR6IQyA\n",
            "To: /content/pytorch-YOLOv4/yolov4.conv.137.pth\n",
            "170MB [00:01, 163MB/s]\n"
          ],
          "name": "stdout"
        }
      ]
    },
    {
      "cell_type": "code",
      "metadata": {
        "id": "lui6tBJKvqVS",
        "colab": {
          "base_uri": "https://localhost:8080/",
          "height": 1000
        },
        "outputId": "74fb1d0b-d269-43e6-8986-e0693e76a826"
      },
      "source": [
        "\n",
        "!curl -L \"https://public.roboflow.ai/ds/xuq5caCm5E?key=G5nybrIoLC\" > roboflow.zip; unzip roboflow.zip; rm roboflow.zip"
      ],
      "execution_count": null,
      "outputs": [
        {
          "output_type": "stream",
          "text": [
            "  % Total    % Received % Xferd  Average Speed   Time    Time     Time  Current\n",
            "                                 Dload  Upload   Total   Spent    Left  Speed\n",
            "100   896  100   896    0     0    384      0  0:00:02  0:00:02 --:--:--   384\n",
            "100 7041k  100 7041k    0     0  2763k      0  0:00:02  0:00:02 --:--:-- 2763k\n",
            "Archive:  roboflow.zip\n",
            "replace test/e4583d082076b2b549b3736ad1b193c9_jpg.rf.55af0c9be903e4dda4a002af87bdeaac.jpg? [y]es, [n]o, [A]ll, [N]one, [r]ename: A\n",
            " extracting: test/e4583d082076b2b549b3736ad1b193c9_jpg.rf.55af0c9be903e4dda4a002af87bdeaac.jpg  \n",
            " extracting: test/5a35ba2ec3e0d0b2b12b1758a8ac29aa_jpg.rf.280f9940defacbb5d840aef65a9257e5.jpg  \n",
            " extracting: test/33afc6085c4d5a8f2421c1adc5a1edbf_jpg.rf.642c5b5370e5900cae860045ade36211.jpg  \n",
            " extracting: test/b9402881fa580d0eb8b9b98845417550_jpg.rf.238f51ed1096107324224ade76408bdb.jpg  \n",
            " extracting: test/e0d38d159ad3a801d0304d7e275812cc_jpg.rf.0cd06a940ccc9894109d83792535e3eb.jpg  \n",
            " extracting: test/2f6fb003bb89cd401322a535acb42f65_jpg.rf.49b342a7b1f6de3f0e328beaf094a945.jpg  \n",
            " extracting: test/7a34d8620235048917b28bcfd3b5572b_jpg.rf.182f59c512dcb99ed53da97dfe2d3d85.jpg  \n",
            " extracting: test/0b47311f426ff926578c9d738d683e76_jpg.rf.58093f799a6f56c30830617ca44745ca.jpg  \n",
            " extracting: test/cfc306bf86176b92ffc1afbb98d7896f_jpg.rf.2de0d2da0025b5993598f47fb1d51d10.jpg  \n",
            " extracting: test/a3863d0be6002c21b20ac88817b2c56f_jpg.rf.ba355f57305a2236db1a9cfb0ac79989.jpg  \n",
            " extracting: test/ba6289667457a113c1a753a87c041c51_jpg.rf.31874cd941dfda8ac86b77fdc97f4931.jpg  \n",
            " extracting: test/b4ff4132c8c85da97d8bf9a2a4ed3e3d_jpg.rf.445b4d70e01a3d742ecf0b7756e636da.jpg  \n",
            " extracting: test/c5a012dfa72816098d23fc8baee67834_jpg.rf.8b0e56e40c7c2429ce0e56797eb55c88.jpg  \n",
            " extracting: test/fdcd6ada676799da8a870f58fdf548db_jpg.rf.bdda51ee840f036af9280598f08b1879.jpg  \n",
            " extracting: test/cf4769d0586df6b3fb0dc618d9f8abe6_jpg.rf.699ec58d7d2447b4d73b748c39525b2d.jpg  \n",
            " extracting: test/1c0060ef868bdc326ce5e6389cb6732f_jpg.rf.a07af6147d4a79376c182d2d95c639ec.jpg  \n",
            " extracting: test/d7887071e972604ddf5940d8eb2702e7_jpg.rf.78288a14dc86417b6d3e798fa7fb5cf3.jpg  \n",
            " extracting: test/73a38a5c8f8f1b09f093f304660d5326_jpg.rf.b23ca34654408e01ab45b9c780032dfd.jpg  \n",
            " extracting: test/685b860d412b91f5d4f7f9e643b84452_jpg.rf.4271132b4ce08c4ec0987ab2490e7edc.jpg  \n",
            " extracting: test/8b457d1c86ad0c8e734b78de2f974fe6_jpg.rf.c2b8260a74f1b24b36c5e5e1cae8ef1d.jpg  \n",
            " extracting: test/4e3117459d759798537eb52cf5bf534d_jpg.rf.437c663d542c17860c1e82c1fca878e6.jpg  \n",
            " extracting: test/c4943d83c06a12ad5e0399d19514a4ca_jpg.rf.8197feccc16483d753bdd671cf29a174.jpg  \n",
            " extracting: test/749e9074a77f8d34d86e2218f26cdab4_jpg.rf.ac8241b790c765e76eb65db0e3239302.jpg  \n",
            " extracting: test/e4147f3d8819fc5d67a9f72596bd9e47_jpg.rf.61c071896199b2723723ba615ce57cb2.jpg  \n",
            " extracting: test/8ff752f9ed443e6e49d495abfceb2032_jpg.rf.4d299f90a6d716ab9d8a7d1741c26b62.jpg  \n",
            " extracting: test/f1a24b6bb778ee11ba33687415aa84f2_jpg.rf.c3f21b35159c24fd853cb1da56f80d6c.jpg  \n",
            " extracting: train/889c420fb266b8d0e817306110042bda_jpg.rf.187d72f3d58f732ea576641f5c702f61.jpg  \n",
            " extracting: train/9c153a9c9798dab948d4260eb109b315_jpg.rf.04a431391f78af71e5ebaf9d51d91faf.jpg  \n",
            " extracting: train/36066ba85572ce99198f1a21c2c8bbff_jpg.rf.1bb4689be2417ff995fbd5e22876c353.jpg  \n",
            " extracting: train/614811e933a680fd6535ac8bf06bf530_jpg.rf.0b9ea19fb73269b21cf021c584b84aeb.jpg  \n",
            " extracting: train/699edbacbfee5e6d4d6d2189bc88990a_jpg.rf.21253a833a9f17c4391a96e64b279fd9.jpg  \n",
            " extracting: train/0f4512d71c096f2699d705792e88fc58_jpg.rf.0971fe35ffe3ebbcc3e2a709de978aec.jpg  \n",
            " extracting: train/3914be0cea4aa8a6bbd1081ec3b034a7_jpg.rf.1a22ac976f9598278bbbf963909a32ef.jpg  \n",
            " extracting: train/254f92b18b2a81f88b85e7aed3cabc61_jpg.rf.09fc82bf7878065eb6cad223e60f7f0b.jpg  \n",
            " extracting: test/b526b661a33ff481231d1342aff2a266_jpg.rf.dd4da31fe7f3f0eac58576f8f2c56f61.jpg  \n",
            " extracting: train/dd6b5c3cb2d7e77f38f1dfeb2bff0431_jpg.rf.065f8833508d101a1f1449e8fbabc314.jpg  \n",
            " extracting: train/e79deba8fe520409790b601ad61da4ee_jpg.rf.016bc04dee292f80d1f975931f32bc21.jpg  \n",
            " extracting: train/49d365236ee4fb6bd982b0f00bff007e_jpg.rf.16bc32d2b40baeabec00c02b2f9d0e84.jpg  \n",
            " extracting: train/4de23afff63bc169b4ebe547a9c9b692_jpg.rf.0cf789652d85886de3d00b05bef061eb.jpg  \n",
            " extracting: train/b0f3d66c8be13f5f6aa25b67a06bdcfa_jpg.rf.01b3f3243bf31cb2ea18a89fd58044be.jpg  \n",
            " extracting: train/f3a5df526393445c6e2d38f66c1f5c27_jpg.rf.09aeba93cdea53cc6a6db62f6056ec35.jpg  \n",
            " extracting: test/410993714e325a1de3e394ffe860df3a_jpg.rf.ceda8f2165a9e8b314a6278acd02686f.jpg  \n",
            " extracting: train/cae099fe41d6aa30033d71e433c33c8d_jpg.rf.124529e05c30bf412475f20b8f274f95.jpg  \n",
            " extracting: train/d0cc2420bce5b14dfd39e55dc3737e57_jpg.rf.0f1c927870242d0e614bd6e320f9969e.jpg  \n",
            " extracting: test/654bb8835258b26c466b1c19893df451_jpg.rf.e4099f0bbd3b79210414bb32a47b437c.jpg  \n",
            " extracting: train/1595777dfa66e954ae23655743e24809_jpg.rf.1ce3ed024877808c7e9f12f1f83fefae.jpg  \n",
            " extracting: train/4d7820ad9fb4fe69d5168e1d7317dd02_jpg.rf.1279c1ccceab06443a62004f2800d891.jpg  \n",
            " extracting: train/389b4c47568c78c44df11dbb1377ffea_jpg.rf.1d6174519a8e98c853c57584e8cba891.jpg  \n",
            " extracting: train/66f3c2c7c10a9263de9c6e056ba5c1b9_jpg.rf.18efa20b29dfe94acf3cb63ccc92a4b3.jpg  \n",
            " extracting: train/5cecd3b3946aac5c713a51e0bd4617c9_jpg.rf.03286d3792ba33d52a3654e14735c974.jpg  \n",
            " extracting: train/104ec0199cb67e1a359b1b0845ee66f3_jpg.rf.2148e2af0737be8e162d7d867805a8ac.jpg  \n",
            " extracting: train/fa4e2b9a8cf58f405f69a56c662834f2_jpg.rf.2ac2e858d136ce51bcecdc1129187214.jpg  \n",
            " extracting: train/e6e3a2ff2c75970490079f00136885ad_jpg.rf.2733f54e2f320fbc9c5e0058c731d765.jpg  \n",
            " extracting: train/4d6b667ecbd41ebd603b38848366d9d0_jpg.rf.29238774d80d0be8def25571c503714f.jpg  \n",
            " extracting: train/ddad9dc4d945006d66f5349d64498559_jpg.rf.3d6e55223a3ce985572a9e46d7c6a9f8.jpg  \n",
            " extracting: train/26d663ab5ffbec49f9dc8e592982cfd4_jpg.rf.238eb82b4d50cc47759fa7ce82c43b97.jpg  \n",
            " extracting: train/ea799d77875c399618c45cd9409f34ee_jpg.rf.316738a20243cf9a9a408b56ccaa5616.jpg  \n",
            " extracting: train/d29148a2233950a7777285281cbfccff_jpg.rf.2e63366f947507e0735a25d532caaa54.jpg  \n",
            " extracting: train/9a6b61a6d3b3e3ecddc201b097aa02d1_jpg.rf.3903667901a40aedda2c42c43502d96b.jpg  \n",
            " extracting: train/37fe05bcf7d8568a9e55b569afdbccbd_jpg.rf.369f4b4dbd105056aa23957cd4be1687.jpg  \n",
            " extracting: train/f9a9a175f26d4b26bca3a5338cc1405e_jpg.rf.378f0d92128b1608bc48d47324f380b4.jpg  \n",
            " extracting: train/c7890b749d14d3488066cbdfac4620fd_jpg.rf.3850673b2781e44e1a293fe12a9cde12.jpg  \n",
            " extracting: train/04aed88a8d23cf27e47806eb23948495_jpg.rf.4021af803b1b21022221cd3654117580.jpg  \n",
            " extracting: train/a8847f8fe8eaaa1c97bf83027a901760_jpg.rf.26afc5ee5c983fe73c8e113e99127fa9.jpg  \n",
            " extracting: train/055b79dd8db4c43e1a23be6095aaf624_jpg.rf.3eddea89d44864ecd7971d2827ee88df.jpg  \n",
            " extracting: train/5758322233deed7ae7adc23536db2a4f_jpg.rf.2ac5b8df5fb0e541557f79cbdd79f51a.jpg  \n",
            " extracting: train/6179b463c8f503445e213b706d2a4de5_jpg.rf.22c6e0d7cc69bbceddc0ed8a8b0e0bc5.jpg  \n",
            " extracting: train/0d9dbf62d5ee42b92bf55197bba4254d_jpg.rf.3dfbde3b99d83e88daa3b69514daa68d.jpg  \n",
            " extracting: train/bb54af2f0b83b174aecc29328c8fa001_jpg.rf.3224d475bfa4e44af5b808c58d411c4d.jpg  \n",
            " extracting: train/0301b7f9ed4d5ba503fda79fc4370c29_jpg.rf.3ecfd27607406c9f46c1525efd39e17b.jpg  \n",
            " extracting: train/8678864272a0a04c4c65ca96324105b4_jpg.rf.23c0e1b2c040efd89095760e27f28eaa.jpg  \n",
            " extracting: train/fa3cf2724c1648a8822b59ac0759475f_jpg.rf.3ad41d095557e6bfb446af5de5553e75.jpg  \n",
            " extracting: train/e8480d7fb9881d8a0e88b7be4d103f6d_jpg.rf.2bc6fa7acb94ff9b2993d2de0c7def9e.jpg  \n",
            " extracting: train/292b0ddcacad7de06a628980954b6993_jpg.rf.3e5a330ebaead704099fbdbcee34d96f.jpg  \n",
            " extracting: train/1a530d578f3f0bf3497bfeff3d953025_jpg.rf.2a30081d7234f714736032af1dcb4193.jpg  \n",
            " extracting: train/675619f2c8078824cfd182cec2eeba95_jpg.rf.2a121620701a980a77942a4d8e8a813c.jpg  \n",
            " extracting: train/4bf38c062fa7b5796d15ba90d6c3a456_jpg.rf.47d09ca58c3f5cb00e286ed52ab6f29a.jpg  \n",
            " extracting: train/969daa72bd7804ea1212e191820249b0_jpg.rf.42fdf983653232bcccbca70f94cbfac4.jpg  \n",
            " extracting: train/4ae38537a74c5ed10d5223f8066659fc_jpg.rf.4fef5c4efc7522714a483c38502f21f2.jpg  \n",
            " extracting: train/76dbe2ccf986a2a0d399d3d8a47279ad_jpg.rf.582fa23c9cb60c607ce4039d59257eac.jpg  \n",
            " extracting: train/61567b97353acc18ba9e8aac0f111326_jpg.rf.5764028ed4ece48b7894801e884e111e.jpg  \n",
            " extracting: train/47e842dd95735a11cf92c0ddf1161193_jpg.rf.563bd525e9210a59e275a565317b890f.jpg  \n",
            " extracting: train/a4028b2361ce7ead654a86b07ac39d52_jpg.rf.4300592f959cf20135ac198003615490.jpg  \n",
            " extracting: train/3796db002cba7265bd32b0161ddd9127_jpg.rf.4f039ba64a8a26531c2b2861e04cfe7a.jpg  \n",
            " extracting: train/81f5c542ffe0f9eae4df59d29acbcced_jpg.rf.561b8c31b527d84832e277765b20dc4d.jpg  \n",
            " extracting: train/6454bd04e2829d4ff83602f0f2d7154e_jpg.rf.46c9bd543815a1c9758df61f2569524e.jpg  \n",
            " extracting: train/614aadadb4a7f5b475b027b8e11398ee_jpg.rf.46607639a62cb9241830db1088e145a1.jpg  \n",
            " extracting: train/c76c79e40bd9839a05237934cfa89ca3_jpg.rf.498d8fcd0acd71952f9d92708b360fac.jpg  \n",
            " extracting: train/d079f4e77b2445abceca7534356db743_jpg.rf.463c6a4e369b2ffc0baaef7ebb4a68a2.jpg  \n",
            " extracting: train/c46bf04050a2a9323dfe563e8813602f_jpg.rf.4da1d855a20ec2d0deff03a46d8363c9.jpg  \n",
            " extracting: train/fb586797e8ad818c7e3e3a6411f73d84_jpg.rf.52352f51cdef2f343756ef296af65d9e.jpg  \n",
            " extracting: train/ef1d425fd5370fbf8b7adea43b755304_jpg.rf.509cd10372ad2fe7def2c49881348306.jpg  \n",
            " extracting: train/f3302c754c6fd42130014199ee327d10_jpg.rf.56672ccf94cd354a96888ca0e8a8e4e0.jpg  \n",
            " extracting: train/eb9e7928e756c3cf9164e7afc08c4653_jpg.rf.48f982d13896a1d8c0c7a566cdde2129.jpg  \n",
            " extracting: train/b3b002461f1c6b432e22964549767e5f_jpg.rf.46f0298de88abcc93f279274d84d6b6b.jpg  \n",
            " extracting: train/673bcd0d44f495fbe9dd88d5cacfceb3_jpg.rf.4f36394a6dc154067ad4da04cf503df8.jpg  \n",
            " extracting: train/97aeb1f9b745a929e9ac0848acb53a1a_jpg.rf.5997f0ef95b45103711d4fdc239c2691.jpg  \n",
            " extracting: train/23988893ef7381fece6d1ef32ef5428f_jpg.rf.5065b0683d241ad92afc074eed391b53.jpg  \n",
            " extracting: train/00bc0cacffdebe6b11bdeec56f63ee49_jpg.rf.59f0f02a28f020d480fd5d1d8aa32f6d.jpg  \n",
            " extracting: train/ce54969567273b9b8a275812ff56e16c_jpg.rf.59df2edfb1d3ece93a0939c27e2ed384.jpg  \n",
            " extracting: train/285d7c487a4e20ad832a74acb527b77f_jpg.rf.5ce3eb6a89b4c0019fde9d22a5921104.jpg  \n",
            " extracting: train/a932287da44b9dfacd0d16a5c1d27923_jpg.rf.5d4b7b1e6f3b0033a85c6fa52a0dbeef.jpg  \n",
            " extracting: train/759a86e63667ca033255c4ab438dd392_jpg.rf.708d1d10d1032312cacd959485e92fa5.jpg  \n",
            " extracting: train/9d776e74e90c4f8092b060dd7567e2f8_jpg.rf.5d6deb8a1e7a40c616186a7b90f48c2b.jpg  \n",
            " extracting: train/13106bbc80a01cc413c2ab5052d2ec25_jpg.rf.6fb6095088bd3962b78e22f736409ea5.jpg  \n",
            " extracting: train/e40003d4bbcdac7196b9502bfe2fb6ed_jpg.rf.67e2013fa9dd32e5a94dc926ddabfd35.jpg  \n",
            " extracting: train/f5231f940bcf1527ef8bb8e46ac0532b_jpg.rf.5d8200f918b607f7dbc41c8533095e41.jpg  \n",
            " extracting: train/2fe75c34fd54e960146fb8b0ad8b3fd6_jpg.rf.6091e6d4216ef3f71b33d14c30ec0d54.jpg  \n",
            " extracting: train/76e118acf05a8ebe06957f8882cc06aa_jpg.rf.6170a8b5a9733bae0c02d0ca375bde10.jpg  \n",
            " extracting: train/a5c65b40e0be3480c0ecfacaab399a87_jpg.rf.65826955144870ecaf37db65ef6532ae.jpg  \n",
            " extracting: train/d795f84f39716798482fb2937868ed8a_jpg.rf.714951561ee3a485ad7bb06fe4377bf5.jpg  \n",
            " extracting: train/4667110b61b16e786673ed6126ccc35d_jpg.rf.775479ebec16606e8b47874da02463fb.jpg  \n",
            " extracting: train/dda052fc8dbcce6154d6874a663743eb_jpg.rf.5f2765d09b2e90e6a1d5a629a006e6ac.jpg  \n",
            " extracting: train/d67b5b9e900409b050dd9bd594f90709_jpg.rf.7559a07ac3b4029a5a287b4b7b96ea37.jpg  \n",
            " extracting: train/f587402be410b424bcbbac06e1dc6162_jpg.rf.7181098acae97a248bfa1d0586a3db69.jpg  \n",
            " extracting: train/05de676d5078dc0a13796f3f627993ef_jpg.rf.70a6ddff100e5f321d7d6f8d4d977e3d.jpg  \n",
            " extracting: train/c3e9e81ba1540aae7961a4d8d96600ba_jpg.rf.65c56919cca14d00fbe5d2d44ec569de.jpg  \n",
            " extracting: train/c0d68e012bb93c14bc333fc1d5e52621_jpg.rf.60fc27683bf9457b110251dbc3bb7c4b.jpg  \n",
            " extracting: train/446e75de1ffefc2115e79696bcf0e357_jpg.rf.642c290200ecf6bac85bbde223355232.jpg  \n",
            " extracting: train/99ee6574b2a7afc0bb06269bbcf49a4c_jpg.rf.693e8999d9c962ab16c457b2225359f0.jpg  \n",
            " extracting: train/743665d7ef6ab0330e8786227f6f4051_jpg.rf.6482e654f2b3d8ecebfdaf396c741b07.jpg  \n",
            " extracting: train/5825608dccde6544eef91822136079d0_jpg.rf.62780259541cb1ed0b071c0594b71147.jpg  \n",
            " extracting: train/03d3ff4582c8125d69c19a72f846bec8_jpg.rf.5f77781cbc56eff8679f258ff4f7cc9f.jpg  \n",
            " extracting: train/8d6f722eadc015a393bd490f9b7a85e6_jpg.rf.651f72c0d06342bd6e79bff0aeea8fd2.jpg  \n",
            " extracting: train/859e7157c6d544236a67463c08169b6e_jpg.rf.773fea93fd9593e63fedd9d27f8581a7.jpg  \n",
            " extracting: train/b5bcde459ca36f0d1f3c20e751336672_jpg.rf.667ee729363a8d60c926d9dd3734bf2f.jpg  \n",
            " extracting: train/196829feb704a34a4e471155f14bdd80_jpg.rf.7b98c9eefcd83f5cf7eea7a95e4ceba3.jpg  \n",
            " extracting: train/b79ae5b70de58089ead6e32b235e30d3_jpg.rf.87a4a8323a2c39c2f925c7987a01d1b6.jpg  \n",
            " extracting: train/8d796de64b9eed1ffd5ebe550d4ca807_jpg.rf.7a9a939f45b77b1804da67fbb088c795.jpg  \n",
            " extracting: train/3474d785b1b21d68163f56aa00a92bc9_jpg.rf.7edb79a8e8ad56b74a670a5c43b5cf2a.jpg  \n",
            " extracting: train/02f0931b536dfba10affc3231a3d64fb_jpg.rf.7daf233a70122377355a36ca33e82aa4.jpg  \n",
            " extracting: train/03886821377011fec599e8fa12d86e89_jpg.rf.78d439f975872bc0120d597bd265684b.jpg  \n",
            " extracting: train/59727dce26aaa6100078810b61404069_jpg.rf.7c04dbe505cf1bd214e4f491e3a395af.jpg  \n",
            " extracting: train/48e115dcbf1b3a67ca47a75a92da3f33_jpg.rf.9a3c3e55cb4a229779fc06a672af0765.jpg  \n",
            " extracting: train/8dd12470c30e3b265e8933a6fee7ad28_jpg.rf.84b8584b870b790d4f5d40bdd24c1af4.jpg  \n",
            " extracting: train/4807629b8df9c7eb4366b7feccd72e6a_jpg.rf.8586b4e2e824f8ee2e108a4a32592c9d.jpg  \n",
            " extracting: train/4ab3343c9e91e56813f6c36bcac9896a_jpg.rf.959e82a0ff12d5f2276016650905b3d1.jpg  \n",
            " extracting: train/9e943906fba1ec89edfacb2dd7976504_jpg.rf.9702132e48df03814384024ca7313212.jpg  \n",
            " extracting: train/5a8433ec79c881f84ef19a07dc73665d_jpg.rf.8c74727285683022959679af3c43f190.jpg  \n",
            " extracting: train/f2672cdc28767484b556da3ab6f1003e_jpg.rf.7d0badf9505f1655f0561107d11a19f1.jpg  \n",
            " extracting: train/22e74efb18b2d88fba63d25a61bf5f97_jpg.rf.91ebc978b333aae9ba2289e894ff95c3.jpg  \n",
            " extracting: train/76d01bada90581f55f1ae64c062cafcf_jpg.rf.82f338c5d9879e03d2a7455a585493e3.jpg  \n",
            " extracting: train/b7a8c7de4fe1382d69f58ac97e819b5c_jpg.rf.7b795ae14bd822803c9f193def40e3ef.jpg  \n",
            " extracting: train/7df16cd59fb40e0691948cc805e4801b_jpg.rf.87b8be301feea11509703396e6f8b8e2.jpg  \n",
            " extracting: train/1877a28e4c5f5c1ea68aca66f4e85d95_jpg.rf.7d7dcb905c94e79222205feb915bafec.jpg  \n",
            " extracting: train/49c2afbbe5726160b289f7c0c62cdace_jpg.rf.88443bd77810fdde979f0d6c41bd3cc8.jpg  \n",
            " extracting: train/3161933dffedf8a859d6623a99492c53_jpg.rf.9267abfc68d9bd6af1912b5d0319f36c.jpg  \n",
            " extracting: train/f041d3171dfe3137390c85fc5437e447_jpg.rf.8814a03f0ba5cf32468d13ff688c5594.jpg  \n",
            " extracting: train/ca869123d8a0cbcc6e54f4a445e5a78a_jpg.rf.882d99242b6bdb27680eadd4a5904cb2.jpg  \n",
            " extracting: train/a9987cf6cc5c6545818ec294d4a5bb9b_jpg.rf.95a5bb9f3138fe997ff8faa21a85436f.jpg  \n",
            " extracting: train/a4ebf4c268d80c4fe329331ea981b3a1_jpg.rf.a15a2e6dfb1ce2864f46f69bb0c54795.jpg  \n",
            " extracting: train/d494cb268ad7f9f55587de138edc1dc4_jpg.rf.a61a3722fe947a9e22034acaaff19a8b.jpg  \n",
            " extracting: train/6f0a888f9e5aed9516e336fd04723ce1_jpg.rf.9dbcc89d91a6cada0f389a0e88ecf86b.jpg  \n",
            " extracting: train/edd285915356686fb53fb52c1ded0e53_jpg.rf.9e9b27a0d423c4ec63e6e1dd825d8ced.jpg  \n",
            " extracting: train/53de0674524ae6d77bdfff48136dec2a_jpg.rf.aadf3edd69993569f90483c91fae1fca.jpg  \n",
            " extracting: train/c733616ab773817dd1a356dbbdf2ee33_jpg.rf.a3c3194c8e748b8ab26858a2646ba856.jpg  \n",
            " extracting: train/bc5decab88861286dcf78a367b4377cb_jpg.rf.99264d2583f17e6ba8a7b2e15c54271a.jpg  \n",
            " extracting: train/8f84f1945fd993facc3368d13345f333_jpg.rf.b190d526f930a1e6e0c8568294cd2837.jpg  \n",
            " extracting: train/4939035108d04ee672570a7cc937e270_jpg.rf.a00ea9b7a719681055868d92c1191fe4.jpg  \n",
            " extracting: train/a20eb4bb3cea2e394cfcf9ed969b628e_jpg.rf.abd0f3c626fca3ba6c4111d4fbf656ab.jpg  \n",
            " extracting: train/6bb6f7cb96bf37230681d12ff7882f61_jpg.rf.b1255adcc94141477b7d089a0b9ebf42.jpg  \n",
            " extracting: train/cf2784fa97151d5316b2961b1e62dc45_jpg.rf.af04872f77bc32d96852b458e1b3597d.jpg  \n",
            " extracting: train/8967433350d3b3043902603430fccaab_jpg.rf.b3b6e9ca2da2674266a7d44c368a3953.jpg  \n",
            " extracting: train/8de03901c64a80070048ead3fb0d32bd_jpg.rf.a81d5c2674e7d68b2245ef7725a87fac.jpg  \n",
            " extracting: train/9962a4d44388b9008aa0f466e4f4052c_jpg.rf.b2b9e1236e560e47019df29344b0cc10.jpg  \n",
            " extracting: train/1728cd731489df8bb8e0396e178fe393_jpg.rf.9aa607b72daa7a732ab1285f5ff96c66.jpg  \n",
            " extracting: train/f3e64e9dd12b65b941c142d142b33ef5_jpg.rf.a9db857ababa4d01d03eb09a527d29fc.jpg  \n",
            " extracting: train/2ee0fd0963465ba29d8f27c6e605c55d_jpg.rf.b0d9e857c9a56fc8077ea156fca40284.jpg  \n",
            " extracting: train/ec5ab1930d6aa16fff2582b48f82cada_jpg.rf.ab0666b98c1ed6aed1a7a268fdb79ec6.jpg  \n",
            " extracting: train/3bab0eaaeb63a2ac9ae4942df4006a25_jpg.rf.a637df4b9da83609e96c1828e1f4366b.jpg  \n",
            " extracting: train/8bb72e70f0560095885586deba37a524_jpg.rf.addedc80f989194e077b8c53871457b8.jpg  \n",
            " extracting: train/92992ff9c823e0420bf17e71db9ef4ef_jpg.rf.a9c86b7daee5c7b1977507f760cdd7e8.jpg  \n",
            " extracting: train/383c2ed7bbe2d327ab55a871db497c33_jpg.rf.ac062d648b1833d4c5ada1dbc6052060.jpg  \n",
            " extracting: train/9146a6989dac08f1769e677064ebfb49_jpg.rf.adc60b60fd2041dbb3102a4561edf7b6.jpg  \n",
            " extracting: train/f02d615907c77dc15f02bd1372e4398f_jpg.rf.b46e520760107eb69d290ac810d8e1aa.jpg  \n",
            " extracting: train/f1ea0167087976926d4fe0aa36b961ce_jpg.rf.ab4d245320384c2d04ba6e9ba6a652ec.jpg  \n",
            " extracting: train/479459fe5c8213a84fd55ba82f2670b1_jpg.rf.c0cbd0b155916350af1e743b11766dfc.jpg  \n",
            " extracting: train/0798bfb058da59d189c1bfadcf814f29_jpg.rf.b73199953251d84e4895a862463b7964.jpg  \n",
            " extracting: train/8ff64b3f770bfe96bdffc629efd16460_jpg.rf.b56392e0638bcb50479d4e74dad8ac8a.jpg  \n",
            " extracting: train/6403b91d63799cb9b5531c47b195d088_jpg.rf.cb883855985dd9bb6c6abc4cbe53fa76.jpg  \n",
            " extracting: train/9fc54a45feb5b01db8f6828d181fb075_jpg.rf.c78f29bbe2df51ae862c73f5cca0eebd.jpg  \n",
            " extracting: train/4894f034a55eaa9252cd261a62b11d27_jpg.rf.bb716c1e40a670ecd703683c8dc332c0.jpg  \n",
            " extracting: train/80c787b97ed3e2b4befd6b11aa2fba37_jpg.rf.b7e9d028eb34400c5d239b57639e086e.jpg  \n",
            " extracting: train/fc9d7bc0453cb3324406401c00224d30_jpg.rf.c596d992843d8a35d80cadf5489e0770.jpg  \n",
            " extracting: train/3730ef213ac6aad431475a9ab28f349a_jpg.rf.c18235c762e398156f5a67144b46d3a9.jpg  \n",
            " extracting: train/ec4c30d88ecc70b6a3e76dbd9b17324a_jpg.rf.da4ab525f8d9b96b4de4067bd6694cbb.jpg  \n",
            " extracting: train/4eb630d4dd38528dacf72355caf5c06d_jpg.rf.cef25bd3e5eb142ccd065e5d26049127.jpg  \n",
            " extracting: train/0cf670506bf9e0fe587647cd62caa232_jpg.rf.cc43d799dab21abc85a4368295867d8f.jpg  \n",
            " extracting: train/2c32afd520cc8bf076dfa5b6e2e1c4c1_jpg.rf.c546a535eb5f3a68ed59a794c1faeb2a.jpg  \n",
            " extracting: train/48d3c59a99b2b5a5b9f1eb7d5ba63b60_jpg.rf.c196233c6c25ec23958aa743163344b1.jpg  \n",
            " extracting: train/3e8fb24addda1a0945bd6b7777bc4018_jpg.rf.d17abcc1ddc47bcc382536d9669e3fd5.jpg  \n",
            " extracting: train/d9acc69c5d57623cda22786e309201c9_jpg.rf.dc4a82120ade321eeae8146c917e3109.jpg  \n",
            " extracting: train/79e744a68d6e6f83be0a9e8761ea66a4_jpg.rf.d796c3ba698ebf673f0d3fc42062e20c.jpg  \n",
            " extracting: train/5e71cb8d41c333a18e799ef0004b040c_jpg.rf.d65a0847e82174366d01e29a636074e6.jpg  \n",
            " extracting: train/38f26ee82e38d332b2a831aa47bd363b_jpg.rf.ce772b291dcc390ce7786ed11a493495.jpg  \n",
            " extracting: train/3091c9b25d76e9cbd0af83ced9f354e5_jpg.rf.d5f14cd80477f444b7ed601f609c67dd.jpg  \n",
            " extracting: train/1b4ccdf7d5ff45dc6c3885243bde5af2_jpg.rf.c0b83419aa9e3c1b3b5a9cba2b9ea579.jpg  \n",
            " extracting: train/0b4ba28f0c759a11750a6430649b52e3_jpg.rf.c732477a7f65117e3fb24bbd7bca5b8e.jpg  \n",
            " extracting: train/300f80826bbb7dc4bf83e148614f2f77_jpg.rf.d2ebe06b4f53115a03fefa84f8ce7f4e.jpg  \n",
            " extracting: train/b5102d7f9740eee7754ed268becb2163_jpg.rf.d4a8cfe5fa4d0f53d73c64b07ebabbce.jpg  \n",
            " extracting: train/247f9cf35a263dc7dd7886b187fd5480_jpg.rf.ca7241ecf892e490f69312d56b5a6773.jpg  \n",
            " extracting: train/34ad1966ae7a17d4502ca141413ed8d2_jpg.rf.dd63137d1c9d6095c293b48a0b6f3334.jpg  \n",
            " extracting: train/57def88c6de500f5f6926354b3680a13_jpg.rf.dd74421d7ddaa3ec1198e12a84a9f1dc.jpg  \n",
            " extracting: train/1a8a4abcba7c4ead35c01f05b9fae8e5_jpg.rf.e36b61dd77198f5d2ffd5c39645638cb.jpg  \n",
            " extracting: train/de60ba81aa78387928e4bdc11f3be301_jpg.rf.e7b8966eca79a6758f9f2eedfcf1177c.jpg  \n",
            " extracting: train/d3a4e1b8f13ef89f419251f5c5839d0d_jpg.rf.e4b5ce214ea2670fa96ab949aec57dcc.jpg  \n",
            " extracting: train/998222d9c93f1640829d4f0032dbf3e8_jpg.rf.dfdbeef166796c8f4327b3a456ca1cfe.jpg  \n",
            " extracting: train/6f0de9b594de9f9b92c6a20daa51a28a_jpg.rf.e7362c0e232dfa07aa0eb3f52bb4fd50.jpg  \n",
            " extracting: train/9504fb6b81031feac1fbf1e128b5c173_jpg.rf.e4e7ce142edc55c73267abbe60ec69b3.jpg  \n",
            " extracting: train/49f78dc9aaeadd0c76ed2def75c358f3_jpg.rf.ebe11640761df4735fa11bf2516c7967.jpg  \n",
            " extracting: train/a9768de3fceeeae2618f362870fb9a88_jpg.rf.f08a04590fba92deafdb3def03e97c44.jpg  \n",
            " extracting: train/6589f4cfb37439d7d276f0d70f7ee1f0_jpg.rf.e6bfa3034bc8005aaadf8ba1aca18e61.jpg  \n",
            " extracting: train/06770ce99d4866165c0dfb104179c361_jpg.rf.e7acda724f1beddf07e9cc9ee750f3d5.jpg  \n",
            " extracting: train/e4209b257f3706992c059c836cc42ec7_jpg.rf.ed76056e3061801af1c2cdf46bea57fc.jpg  \n",
            " extracting: train/871597c145446cf58c1c2dd7db988864_jpg.rf.dfe014e3493447cc19e30bb97c00239a.jpg  \n",
            " extracting: train/6ba74e310dd824af891d057d674cedb9_jpg.rf.f100b00ae7151f33ca508ed17be6e7c6.jpg  \n",
            " extracting: train/d415969922564f317be0d1433330626f_jpg.rf.ec44988c2ee838f90f37cc64ea149905.jpg  \n",
            " extracting: train/31419854b103ca6becc4cc394c449e95_jpg.rf.ed358e1365d7de3a15257d87752c51b9.jpg  \n",
            " extracting: train/beb11566e59775b61f0ca369952067cc_jpg.rf.f2f174dcc0acd5991b822c5ca1a6735a.jpg  \n",
            " extracting: train/239c409d5c09b493fed01a70a3cda4bc_jpg.rf.f8f5bf822dba445148cf5271f1a7e34d.jpg  \n",
            " extracting: train/54a90aab8c73562975cc560d51a9d2d1_jpg.rf.f5700e30dc924ed32d1b7e34cff05c04.jpg  \n",
            " extracting: train/f52e1873b8583f8bf4f7ddf6e9649f07_jpg.rf.e9f936cd405597e058a5d399d094078d.jpg  \n",
            " extracting: train/7ee8d13861bdc45e40a7cfe190a8d8a6_jpg.rf.f89633224312e1c80ce73c4e05c65051.jpg  \n",
            " extracting: train/c3e3b51f63d344be346e6e425f30f87a_jpg.rf.f88e789167d309e0381aa2c9d4a6e322.jpg  \n",
            " extracting: train/3057eba7e9b0221ddbdc96a01f39ab79_jpg.rf.f5ca64930fd980c194483c8a3bb6a54e.jpg  \n",
            " extracting: train/9c5fb0c3cfd7b334a247cd87c139e8e6_jpg.rf.e515316111e554f86ea49e12faeda7a4.jpg  \n",
            " extracting: train/65ba27557c78850168b1df70a3ce4ff7_jpg.rf.ef005cf77310609923ff2fb962581194.jpg  \n",
            " extracting: train/0115e4df73475b550e5c6f7a88b2474f_jpg.rf.dfa577bd4af5440d689046c2f48bc48e.jpg  \n",
            " extracting: train/040f2bcba5afce3afafdd5bbf36d2ca5_jpg.rf.fe6d0720247b60f2c6e1cda98fd00cab.jpg  \n",
            " extracting: valid/8ec14357f5f18fb98db86e0283623150_jpg.rf.336c6e5901f05467bb6b35b785a73949.jpg  \n",
            " extracting: valid/fb7d97265a22bb1c1f908dadc6f9e7dc_jpg.rf.2bb7d12a905737aefab726bddf073b15.jpg  \n",
            " extracting: valid/6a41b6c8201604216ad196f842c6a2c6_jpg.rf.0d52407ef16693d64cff0668cf321247.jpg  \n",
            " extracting: valid/55be99616328f83dcbfe8c18e1387c0e_jpg.rf.36754078c78920a961830dfaaf13e0a6.jpg  \n",
            " extracting: valid/1be2a621f309c7482e9a79ad5b23ecbe_jpg.rf.5110719a49957c38e3e509c0f644ee8a.jpg  \n",
            " extracting: valid/c1f800417bc42263d141b5ed785e7707_jpg.rf.392e40659901da081aa711c6e9a59af8.jpg  \n",
            " extracting: valid/6e2dd4604b3a51d9be11b8809ed03803_jpg.rf.667ebfe34e7fa7194e71635b3364dcbb.jpg  \n",
            " extracting: valid/18742c87a03866e042c5659ba04d1180_jpg.rf.4424e6a8a441a8389fa7d8691955c4c4.jpg  \n",
            " extracting: valid/3aafc2d38807dddd1b43a54cb70f500d_jpg.rf.561ea7a7774fc0087608ace4aa379998.jpg  \n",
            " extracting: valid/c20ca9283ea51ac7707905894a7da703_jpg.rf.365ea9253c49e1145082f3893571bc9a.jpg  \n",
            " extracting: valid/abd65798d9952a27e087710eb8bddf32_jpg.rf.4a213f8a0a18bbd6a6445a5c78b72846.jpg  \n",
            " extracting: valid/05ad7223827a29a8283f6c4b2490f52f_jpg.rf.5039e263463db5153a0dd8439b462588.jpg  \n",
            " extracting: valid/0c09b79cff39932c59ecc745dd827906_jpg.rf.24b462cfe4b4e7dba97d478de07b9115.jpg  \n",
            " extracting: valid/793c79d55c8a252b7a954d074b1d6498_jpg.rf.3af5b0c88f75574c8733ad6a9a511285.jpg  \n",
            " extracting: valid/c5172afbdad90854b3d0f21a923c0c69_jpg.rf.6645c6f01feff2a87722629cb9ab963a.jpg  \n",
            " extracting: train/d33c33de41dbe1a95a43212c58fd12b7_jpg.rf.fca260fa864f5898d61bee78b5f152e1.jpg  \n",
            " extracting: valid/578029c06939a788cd5606ad17b49fb9_jpg.rf.22a4229d97b9d564fcb42140b375c401.jpg  \n",
            " extracting: valid/0af4c8f0fb5d899e9d1c8d34b2efa980_jpg.rf.57b0654146d453d6cae13cdddc229aa2.jpg  \n",
            " extracting: valid/e53bf8a0e692a4ccd5f1dc2bc19e7751_jpg.rf.469657a97d400016f17a01731956ed43.jpg  \n",
            " extracting: valid/3e0c67f38992fe16dfc163f7f5336263_jpg.rf.4d79300bd37d2259d21ba88499057193.jpg  \n",
            " extracting: valid/31b83afa654d5dd874c3f0111126ab7f_jpg.rf.578d68b987125c78d5974e1ba6384358.jpg  \n",
            " extracting: train/93557fc861304f7753089c244bc1e33e_jpg.rf.ffbb0460f28c29ea6c2f0e5ff165550c.jpg  \n",
            " extracting: valid/9453c2097cb4ccc676e273939894b3da_jpg.rf.66f387eef4e1095bd8ceb9bf80829208.jpg  \n",
            " extracting: valid/ff33a2df1da63c736d4cf28473d3c220_jpg.rf.4e74afa93891c4a01b95784eb9a9268d.jpg  \n",
            " extracting: valid/d6e283a49b0395a6d5867c9e98e32045_jpg.rf.98019c4213f1dfdb5e6ad1650216f5b6.jpg  \n",
            " extracting: valid/64061fd2e0e35bdf9ac4681eddf5fa2a_jpg.rf.6857b7f054d184aa9404720b55f05a2b.jpg  \n",
            " extracting: valid/d9e1d53f5e3a4433421dcd591f76f869_jpg.rf.83b108a81003f948521c89774adc87f3.jpg  \n",
            " extracting: valid/eca42980852e6c5db10ee84aac23f9c6_jpg.rf.746317745a1bb86f4da60bfd8eb2db36.jpg  \n",
            " extracting: valid/7e862b85e33cd247ed66447d129e5fb4_jpg.rf.abee398f18046b4d243ac69d762138a2.jpg  \n",
            " extracting: valid/d3b9309d00a2b671407b918ea867a935_jpg.rf.9d8fcbced3aa4c09446abb6ed0c29233.jpg  \n",
            " extracting: valid/33b66ede234715fb46db40b33c4e26c1_jpg.rf.6d0e742174ceaac44bb8796a960f9236.jpg  \n",
            " extracting: valid/15cc23c777b00d0e123f9df468f2852b_jpg.rf.69a7ec25c26ca626a9c3d3455989715a.jpg  \n",
            " extracting: valid/0d9afc3d23392c3958f53d7fe71fd2f1_jpg.rf.907162426130ed7370ad72200fdd3bc0.jpg  \n",
            " extracting: valid/e7edc4f1b8d3cc1069b96d0358e066c9_jpg.rf.a3de5df2eba3d7ce93e6f4bc5f9d8f3f.jpg  \n",
            " extracting: valid/7e97f49e613a59a70b833e4c0b2c1c04_jpg.rf.84c0d1ef94637613ccabfb825d647a41.jpg  \n",
            " extracting: valid/4b8f93069270a9f7bb523518a5088b9e_jpg.rf.7d625433b528e65c579f62eee62b0847.jpg  \n",
            " extracting: valid/97ed198b00b5491747d3b425df8e7096_jpg.rf.aeabc0f0f9a1bb963c3001f4903ac38a.jpg  \n",
            " extracting: valid/aec1aa6773dbbe004554f405cdef2bea_jpg.rf.7c2ac24381a7b22374523a201c21467c.jpg  \n",
            " extracting: valid/5d492613cf4021eb387513e2635cb3aa_jpg.rf.8ea3718b5ca86bbaeadf248887f74fdf.jpg  \n",
            " extracting: valid/26fa37995fa5b18ec40e0a94e6d91104_jpg.rf.ae716df13c86ffbaf972aed9fa4e08ef.jpg  \n",
            " extracting: valid/424d6506342fa2471e71586675ed092c_jpg.rf.988e7de42f51f3f688417fa6b924af55.jpg  \n",
            " extracting: valid/688232b6869708fe78907898f8f8b5f9_jpg.rf.6bb2e677c81378bf20e3e43710e505e9.jpg  \n",
            " extracting: valid/ca6484c259f286c5bdf1afefc868b753_jpg.rf.af40757deb44de14e90bf3a76b070028.jpg  \n",
            " extracting: valid/d114edc5cb4cae0ceb2f152afd15f57d_jpg.rf.a47ecb8ab8be13c4449100793c00ba58.jpg  \n",
            " extracting: valid/495019998442ddf85b59e387d4916cd3_jpg.rf.ba08d9a498ecad855a31f6c64f7ffa96.jpg  \n",
            " extracting: valid/bb0de9761d16eee258ae09d8de32002c_jpg.rf.c27c48aeaf45d2b9cd8aa28ce82f5209.jpg  \n",
            " extracting: valid/5c19d3260762f5daa632d952bc0074d6_jpg.rf.ae475688a20af8344bcd8d9b7e37e853.jpg  \n",
            " extracting: valid/73e6a751c50604d017541c11b28d8417_jpg.rf.be0202c45e3c0e0936cfa30813f88d6f.jpg  \n",
            " extracting: valid/6859628a422c1b72be8b074841cd943e_jpg.rf.dc8c083b42296b8c70664349805d98f3.jpg  \n",
            " extracting: valid/3312e3bb60e338e9c1a614f0f8960dd8_jpg.rf.cc13ce4af944d2aeb4afaa7959fd72fd.jpg  \n",
            " extracting: valid/ec418cafd39d7c5a69cc0642a08b2a08_jpg.rf.f246d01cc6a67541b8a6d383c197e7dc.jpg  \n",
            " extracting: valid/d9ef98145d7d35393c75a51331a20e2c_jpg.rf.d045b29b13d25132e1f7b23a02161819.jpg  \n",
            " extracting: valid/86afe95de5471af5cef08e6ae4d9acbb_jpg.rf.c90d58d63f997b978c67626c194fc2bd.jpg  \n",
            " extracting: valid/1b7c1c9570e900f75eb974f99cbb3c60_jpg.rf.cf50b35db1eb4d6232850d24c5187794.jpg  \n",
            " extracting: valid/3baf85c957b9d28a16c0b65cb2ef0d29_jpg.rf.825ae30ea5a63347bf69def9d1963bcb.jpg  \n",
            " extracting: valid/d4f7caf01359b9a757c930140f746fad_jpg.rf.ccdaecd58d74f3bc49babbde826e2e60.jpg  \n",
            " extracting: valid/e1616dc9962fed075576ac4ea3553f51_jpg.rf.de48bd9b3a1fbb4e967dc60f36fabce6.jpg  \n",
            " extracting: valid/0b2252c93c53e1b2e61d485b22328e2e_jpg.rf.c61f1858920b2e783ee048a397a59d02.jpg  \n",
            " extracting: valid/57d1d1fb35ed875f9e770660bb03b6d7_jpg.rf.ee46450ad0ef6a5c64d977a5f1c755f2.jpg  \n",
            " extracting: valid/302e7c10664be32b4fc000452149027c_jpg.rf.cc08ac2db1a22e4b2d0ce14f66015dce.jpg  \n",
            " extracting: test/_annotations.txt   \n",
            " extracting: test/_classes.txt       \n",
            " extracting: train/_annotations.txt  \n",
            " extracting: train/_classes.txt      \n",
            " extracting: valid/_annotations.txt  \n",
            " extracting: valid/_classes.txt      \n",
            " extracting: README.roboflow.txt     \n",
            " extracting: README.dataset.txt      \n"
          ],
          "name": "stdout"
        }
      ]
    },
    {
      "cell_type": "code",
      "metadata": {
        "id": "uhoFtxO6Jj6m",
        "colab": {
          "base_uri": "https://localhost:8080/",
          "height": 121
        },
        "outputId": "9fc0437c-b050-4673-da34-bc7ef4cb83a7"
      },
      "source": [
        "from google.colab import drive\n",
        "drive.mount('/content/drive')"
      ],
      "execution_count": null,
      "outputs": [
        {
          "output_type": "stream",
          "text": [
            "Go to this URL in a browser: https://accounts.google.com/o/oauth2/auth?client_id=947318989803-6bn6qk8qdgf4n4g3pfee6491hc0brc4i.apps.googleusercontent.com&redirect_uri=urn%3aietf%3awg%3aoauth%3a2.0%3aoob&response_type=code&scope=email%20https%3a%2f%2fwww.googleapis.com%2fauth%2fdocs.test%20https%3a%2f%2fwww.googleapis.com%2fauth%2fdrive%20https%3a%2f%2fwww.googleapis.com%2fauth%2fdrive.photos.readonly%20https%3a%2f%2fwww.googleapis.com%2fauth%2fpeopleapi.readonly\n",
            "\n",
            "Enter your authorization code:\n",
            "··········\n",
            "Mounted at /content/drive\n"
          ],
          "name": "stdout"
        }
      ]
    },
    {
      "cell_type": "code",
      "metadata": {
        "id": "O7Shvnkl596g"
      },
      "source": [
        "%cp -r '/content/drive/My Drive/train' '/content/pytorch-YOLOv4'\n",
        "%cp -r '/content/drive/My Drive/valid' '/content/pytorch-YOLOv4' "
      ],
      "execution_count": null,
      "outputs": []
    },
    {
      "cell_type": "code",
      "metadata": {
        "id": "lAoLxBEEz4FW"
      },
      "source": [
        "%cp /content/pytorch-YOLOv4/train/_annotation.txt train/train.txt\n",
        "%cp /content/pytorch-YOLOv4/train/_annotation.txt train.txt\n",
        "%cp /content/pytorch-YOLOv4/valid/_annotations.txt data/val.txt\n",
        "%cp /content/pytorch-YOLOv4/valid/*.png train/"
      ],
      "execution_count": null,
      "outputs": []
    },
    {
      "cell_type": "code",
      "metadata": {
        "id": "TvwlqXkSlwUm"
      },
      "source": [
        "def file_len(fname):\n",
        "  with open(fname) as f:\n",
        "    for i, l in enumerate(f):\n",
        "      pass\n",
        "  return i + 1\n",
        "\n",
        "num_classes = file_len('/content/pytorch-YOLOv4/train/_classes.txt')"
      ],
      "execution_count": null,
      "outputs": []
    },
    {
      "cell_type": "code",
      "metadata": {
        "id": "m6xrTj1gREEc",
        "colab": {
          "base_uri": "https://localhost:8080/",
          "height": 34
        },
        "outputId": "1d0ff51c-49a3-4bbf-82ae-350af95a3d8a"
      },
      "source": [
        "print(num_classes)"
      ],
      "execution_count": null,
      "outputs": [
        {
          "output_type": "stream",
          "text": [
            "4\n"
          ],
          "name": "stdout"
        }
      ]
    },
    {
      "cell_type": "code",
      "metadata": {
        "id": "mIlhqP2S57Ub",
        "colab": {
          "base_uri": "https://localhost:8080/",
          "height": 218
        },
        "outputId": "655235e9-afe2-4048-9e8a-b5b902121e40"
      },
      "source": [
        "!python train.py -b 2 -s 1 -l 0.0008 -g 0 -pretrained ./yolov4.conv.137.pth -classes {num_classes} -dir ./content/pytorch-YOLOv4/train -epochs 5"
      ],
      "execution_count": null,
      "outputs": [
        {
          "output_type": "stream",
          "text": [
            "log file path:log/log_2020-07-20_06-46-52.txt\n",
            "2020-07-20 06:46:52,930 train.py[line:435] INFO: Using device cuda\n",
            "Traceback (most recent call last):\n",
            "  File \"train.py\", line 447, in <module>\n",
            "    device=device, )\n",
            "  File \"train.py\", line 247, in train\n",
            "    train_dataset = Yolo_dataset(config.train_label, config)\n",
            "  File \"/content/pytorch-YOLOv4/dataset.py\", line 259, in __init__\n",
            "    truth[data[0]].append([int(float(j)) for j in i.split(',')])\n",
            "  File \"/content/pytorch-YOLOv4/dataset.py\", line 259, in <listcomp>\n",
            "    truth[data[0]].append([int(float(j)) for j in i.split(',')])\n",
            "ValueError: could not convert string to float: \n"
          ],
          "name": "stdout"
        }
      ]
    },
    {
      "cell_type": "code",
      "metadata": {
        "id": "5iR0H_DUoOl-"
      },
      "source": [
        "!ls checkpoints"
      ],
      "execution_count": null,
      "outputs": []
    },
    {
      "cell_type": "code",
      "metadata": {
        "id": "Vutw9YXmhvWo"
      },
      "source": [
        "import os\n",
        "test_images = [f for f in os.listdir('test') if f.endswith('.jpg')]\n",
        "#import random\n",
        "#img_path = \"test/\" + random.choice(test_images);\n",
        "#print(img_path)"
      ],
      "execution_count": null,
      "outputs": []
    },
    {
      "cell_type": "code",
      "metadata": {
        "id": "091QOGGihsuV"
      },
      "source": [
        "%%time\n",
        "for t in test_images:\n",
        "  img_path=\"test/\"+t\n",
        "  print(img_path)\n",
        "  !python models.py {num_classes} checkpoints/Yolov4_epoch42.pth {img_path} test/_classes.txt\n",
        "\n",
        "\n",
        "\n"
      ],
      "execution_count": null,
      "outputs": []
    },
    {
      "cell_type": "code",
      "metadata": {
        "id": "Af8tiXQLrGgk"
      },
      "source": [
        "from IPython.display import Image\n",
        "Image('predictions.jpg')"
      ],
      "execution_count": null,
      "outputs": []
    }
  ]
}