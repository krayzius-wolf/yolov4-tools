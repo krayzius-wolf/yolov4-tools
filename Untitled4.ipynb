{
  "nbformat": 4,
  "nbformat_minor": 0,
  "metadata": {
    "colab": {
      "name": "Untitled4.ipynb",
      "provenance": [],
      "collapsed_sections": []
    },
    "kernelspec": {
      "name": "python3",
      "display_name": "Python 3"
    }
  },
  "cells": [
    {
      "cell_type": "markdown",
      "metadata": {
        "id": "3Ck-m5QLdOxJ",
        "colab_type": "text"
      },
      "source": [
        "to run evaluation(MAP) function"
      ]
    },
    {
      "cell_type": "code",
      "metadata": {
        "id": "0zyzaFG_vSTK",
        "colab_type": "code",
        "colab": {}
      },
      "source": [
        "import matplotlib"
      ],
      "execution_count": null,
      "outputs": []
    },
    {
      "cell_type": "code",
      "metadata": {
        "id": "tbGc7_qGvXkm",
        "colab_type": "code",
        "colab": {}
      },
      "source": [
        "!git clone https://github.com/krayzius-wolf/mAP"
      ],
      "execution_count": null,
      "outputs": []
    },
    {
      "cell_type": "code",
      "metadata": {
        "id": "sh9MTaPeNm6M",
        "colab_type": "code",
        "colab": {}
      },
      "source": [
        "!python /content/mAP/scripts/extra/intersect-gt-and-dr.py"
      ],
      "execution_count": null,
      "outputs": []
    },
    {
      "cell_type": "code",
      "metadata": {
        "id": "WPYp7mWCwe36",
        "colab_type": "code",
        "colab": {}
      },
      "source": [
        "\n",
        "!python /content/mAP/main.py -na\n"
      ],
      "execution_count": null,
      "outputs": []
    },
    {
      "cell_type": "markdown",
      "metadata": {
        "id": "ljnYVNvOdBam",
        "colab_type": "text"
      },
      "source": [
        "Functions for converting and foramtting to the required form. From json to txt"
      ]
    },
    {
      "cell_type": "code",
      "metadata": {
        "id": "Sz11KWRJK03H",
        "colab_type": "code",
        "cellView": "code",
        "colab": {}
      },
      "source": [
        "def json(x):\n",
        "  import json\n",
        "  k = open(\"/content/jsons/\"+x+'.txt', \"w\")\n",
        "  def print_item(item):\n",
        "      if (type(item) is list):\n",
        "          for obj in item:\n",
        "              print_item(obj)\n",
        "            \n",
        "      elif (type(item) is dict):\n",
        "          for attr, value in item.items():\n",
        "              if (type(value) in [list, dict]):\n",
        "                \n",
        "                  k.write(attr+'\\n')\n",
        "               \n",
        "                  print_item(value)\n",
        "              else:\n",
        "                \n",
        "                  k.write(attr)\n",
        "                  k.write(\" \")\n",
        "                  k.write(str(value)+'\\n')\n",
        "                \n",
        "                \n",
        "      elif (type(item) is None):\n",
        "          return\n",
        "      else:\n",
        "       \n",
        "          k.write(item+'\\n')       \n",
        "        \n",
        "    \n",
        "  ol=open('/content/drive/My Drive/labels/'+x)\n",
        "  serialized = json.load(ol)\n",
        "  print_item(serialized)\n",
        "  k.close()   \n",
        " "
      ],
      "execution_count": 1,
      "outputs": []
    },
    {
      "cell_type": "code",
      "metadata": {
        "id": "4BQ7w0zMsEis",
        "colab_type": "code",
        "colab": {}
      },
      "source": [
        "def final(x):\n",
        "  f = open(\"/content/jsons/\"+x, \"r\")\n",
        "  lines = f.readlines()\n",
        "  f.close()\n",
        "  del lines[-1]\n",
        "  del lines[-1]\n",
        "  del lines[-1]\n",
        "  for u,b in enumerate(lines):\n",
        "    if len(b.split()) == 1:\n",
        "      if b.split()[0] == 'tag':\n",
        "        del lines[u]\n",
        "        lines.pop(u)\n",
        "        lines.pop(u)\n",
        "        lines.pop(u)\n",
        "        lines.pop(u)\n",
        "        lines.pop(u)\n",
        "        lines.pop(u)\n",
        "        lines.pop(u)\n",
        "\n",
        "  new=open(\"/content/new/\"+x, \"w\")\n",
        "  for q,line in enumerate(lines):\n",
        "    \n",
        "    if line.split()[0] == (\"tag\"):\n",
        "      new.write(line)\n",
        "    elif line.split()[0] == (\"y\"):\n",
        "      new.write(line)\n",
        "    elif line.split()[0] == (\"x\"):\n",
        "      new.write(line)  \n",
        "    else:\n",
        "      pass     \n",
        "  new.close()\n",
        "  new = open(\"/content/new/\"+x, \"r\")\n",
        "  nlines = new.readlines()\n",
        "  new.close()\n",
        "  nnew=open(\"/content/nnew/\"+x, \"w\")\n",
        "  for i in range(0,len(nlines),5):\n",
        "   \n",
        "    nnew.write(nlines[i].split()[1])\n",
        "    nnew.write(\" \")\n",
        "    nnew.write(nlines[i+4].split()[1])\n",
        "    nnew.write(\" \")\n",
        "    nnew.write(nlines[i+3].split()[1])\n",
        "    nnew.write(\" \")\n",
        "    nnew.write(nlines[i+2].split()[1])\n",
        "    nnew.write(\" \")\n",
        "    nnew.write(nlines[i+1].split()[1])\n",
        "    nnew.write(\"\\n\")\n",
        "  \n",
        "  nnew.close()  "
      ],
      "execution_count": 4,
      "outputs": []
    },
    {
      "cell_type": "code",
      "metadata": {
        "id": "BbMAGXyZTzjm",
        "colab_type": "code",
        "colab": {}
      },
      "source": [
        "import os\n",
        "f=os.listdir('/content/drive/My Drive/labels/')\n",
        "for t in f:\n",
        "  json(t)\n"
      ],
      "execution_count": 2,
      "outputs": []
    },
    {
      "cell_type": "code",
      "metadata": {
        "id": "pOh9re-8ckfx",
        "colab_type": "code",
        "colab": {}
      },
      "source": [
        "d=os.listdir('/content/jsons')\n",
        "for y in d:\n",
        "  final(y)\n"
      ],
      "execution_count": 5,
      "outputs": []
    },
    {
      "cell_type": "code",
      "metadata": {
        "id": "mVPe5yHNeIoj",
        "colab_type": "code",
        "colab": {}
      },
      "source": [
        "!zip -r /content/file.zip /content/nnew\n",
        "from google.colab import files\n",
        "files.download(\"/content/file.zip\")"
      ],
      "execution_count": null,
      "outputs": []
    }
  ]
}